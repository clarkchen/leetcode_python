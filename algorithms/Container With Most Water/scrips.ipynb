{
 "cells": [
  {
   "cell_type": "markdown",
   "metadata": {},
   "source": [
    "# 暴力搜索版本，超时"
   ]
  },
  {
   "cell_type": "code",
   "execution_count": 7,
   "metadata": {
    "collapsed": true
   },
   "outputs": [],
   "source": [
    "class Solution(object):\n",
    "    def maxArea(self, height):\n",
    "        \"\"\"\n",
    "        :type height: List[int]\n",
    "        :rtype: int\n",
    "        \"\"\"\n",
    "        max_area = 0\n",
    "        for m, a_m in enumerate(height):\n",
    "            for n, a_n in enumerate(height):\n",
    "                if n==m: continue\n",
    "                temp = abs(m-n)*min(a_m, a_n)\n",
    "                if temp>max_area:\n",
    "                    max_area = temp\n",
    "        return max_area"
   ]
  },
  {
   "cell_type": "code",
   "execution_count": 8,
   "metadata": {
    "collapsed": false
   },
   "outputs": [],
   "source": [
    "s = Solution()"
   ]
  },
  {
   "cell_type": "code",
   "execution_count": 9,
   "metadata": {
    "collapsed": false
   },
   "outputs": [
    {
     "data": {
      "text/plain": [
       "1"
      ]
     },
     "execution_count": 9,
     "metadata": {},
     "output_type": "execute_result"
    }
   ],
   "source": [
    "s.maxArea([1,1])"
   ]
  },
  {
   "cell_type": "code",
   "execution_count": null,
   "metadata": {
    "collapsed": false
   },
   "outputs": [],
   "source": []
  },
  {
   "cell_type": "code",
   "execution_count": 10,
   "metadata": {
    "collapsed": true
   },
   "outputs": [],
   "source": [
    "import json"
   ]
  },
  {
   "cell_type": "code",
   "execution_count": 116,
   "metadata": {
    "collapsed": false
   },
   "outputs": [],
   "source": [
    "f= open(\"demo.json\", \"r\")\n",
    "demo_input = json.loads(f.read())"
   ]
  },
  {
   "cell_type": "code",
   "execution_count": 117,
   "metadata": {
    "collapsed": false
   },
   "outputs": [
    {
     "data": {
      "text/plain": [
       "([1, 2, 3, 4, 5], 15000)"
      ]
     },
     "execution_count": 117,
     "metadata": {},
     "output_type": "execute_result"
    }
   ],
   "source": [
    "demo_input[:5],len(demo_input)"
   ]
  },
  {
   "cell_type": "code",
   "execution_count": 13,
   "metadata": {
    "collapsed": false
   },
   "outputs": [
    {
     "data": {
      "text/plain": [
       "(1, 4)"
      ]
     },
     "execution_count": 13,
     "metadata": {},
     "output_type": "execute_result"
    }
   ],
   "source": [
    "s.maxArea([1,2]),s.maxArea([2,2,2]), "
   ]
  },
  {
   "cell_type": "code",
   "execution_count": 14,
   "metadata": {
    "collapsed": false
   },
   "outputs": [
    {
     "name": "stdout",
     "output_type": "stream",
     "text": [
      "CPU times: user 9 µs, sys: 1 µs, total: 10 µs\n",
      "Wall time: 13.1 µs\n"
     ]
    },
    {
     "data": {
      "text/plain": [
       "1"
      ]
     },
     "execution_count": 14,
     "metadata": {},
     "output_type": "execute_result"
    }
   ],
   "source": [
    "%time s.maxArea([1,2])"
   ]
  },
  {
   "cell_type": "code",
   "execution_count": 15,
   "metadata": {
    "collapsed": false
   },
   "outputs": [
    {
     "name": "stdout",
     "output_type": "stream",
     "text": [
      "CPU times: user 6.66 s, sys: 7.59 ms, total: 6.66 s\n",
      "Wall time: 6.68 s\n"
     ]
    },
    {
     "data": {
      "text/plain": [
       "4913370"
      ]
     },
     "execution_count": 15,
     "metadata": {},
     "output_type": "execute_result"
    }
   ],
   "source": [
    "%time s.maxArea(demo_input)"
   ]
  },
  {
   "cell_type": "markdown",
   "metadata": {},
   "source": [
    "# 剪枝1"
   ]
  },
  {
   "cell_type": "code",
   "execution_count": 46,
   "metadata": {
    "collapsed": true
   },
   "outputs": [],
   "source": [
    "class Solution(object):\n",
    "    def maxArea(self, height):\n",
    "        \"\"\"\n",
    "        :type height: List[int]\n",
    "        :rtype: int\n",
    "        \"\"\"\n",
    "        max_area = 0\n",
    "        \n",
    "        for m, a_m in enumerate(height):\n",
    "            for n in range(m+1, len(height)):\n",
    "                a_n = height[n]\n",
    "                temp = abs(m-n)*min(a_m, a_n)\n",
    "                if temp>max_area:\n",
    "                    max_area = temp\n",
    "        return max_area"
   ]
  },
  {
   "cell_type": "code",
   "execution_count": 47,
   "metadata": {
    "collapsed": true
   },
   "outputs": [],
   "source": [
    "s = Solution()"
   ]
  },
  {
   "cell_type": "code",
   "execution_count": 48,
   "metadata": {
    "collapsed": false
   },
   "outputs": [
    {
     "name": "stdout",
     "output_type": "stream",
     "text": [
      "CPU times: user 3.22 s, sys: 3.48 ms, total: 3.22 s\n",
      "Wall time: 3.22 s\n"
     ]
    },
    {
     "data": {
      "text/plain": [
       "4913370"
      ]
     },
     "execution_count": 48,
     "metadata": {},
     "output_type": "execute_result"
    }
   ],
   "source": [
    "%time s.maxArea(demo_input)"
   ]
  },
  {
   "cell_type": "markdown",
   "metadata": {},
   "source": [
    "# 剪枝2\n",
    "[新思路](https://discuss.leetcode.com/topic/3462/yet-another-way-to-see-what-happens-in-the-o-n-algorithm)\n",
    "\n",
    "应该怎么办\n",
    "\n",
    "花了半个小时思考下能否使用动态规划的方法来解决这道题目，发现无法证明\n",
    "\n",
    "所有转向了剪枝\n",
    "\n",
    "问题变为了 max(abs(m-n)*min(a[m],a[n]))\n",
    "\n",
    "一个数组二维搜索问题，最直观的方式当时是通过矩阵搜索剪枝来完成这个任务\n",
    "\n",
    "矩阵的每一个元素表示以行和列做下标的两条线所能承受的最大水量\n"
   ]
  },
  {
   "cell_type": "code",
   "execution_count": 162,
   "metadata": {
    "collapsed": true
   },
   "outputs": [],
   "source": [
    "class Solution(object):\n",
    "    def maxArea(self, height):\n",
    "        \"\"\"\n",
    "        :type height: List[int]\n",
    "        :rtype: int\n",
    "        \"\"\"\n",
    "        max_area = 0\n",
    "        # 初始化矩阵\n",
    "        x = 0\n",
    "        y = len(height)-1\n",
    "        ret = []\n",
    "        cal =0\n",
    "        while x!=y:\n",
    "            if height[x]>height[y]:\n",
    "                ret.append(abs(y-x)*height[y])\n",
    "                y-=1\n",
    "            elif height[x]<=height[y]:\n",
    "                ret.append(abs(y-x)*height[x])\n",
    "                x+=1\n",
    "            cal+=1\n",
    "        print cal\n",
    "        max_area = max(ret)\n",
    "        return max_area"
   ]
  },
  {
   "cell_type": "code",
   "execution_count": 163,
   "metadata": {
    "collapsed": true
   },
   "outputs": [],
   "source": [
    "s = Solution()\n"
   ]
  },
  {
   "cell_type": "code",
   "execution_count": 164,
   "metadata": {
    "collapsed": false
   },
   "outputs": [
    {
     "name": "stdout",
     "output_type": "stream",
     "text": [
      "14999\n",
      "CPU times: user 6.25 ms, sys: 933 µs, total: 7.18 ms\n",
      "Wall time: 6.37 ms\n"
     ]
    },
    {
     "data": {
      "text/plain": [
       "56250000"
      ]
     },
     "execution_count": 164,
     "metadata": {},
     "output_type": "execute_result"
    }
   ],
   "source": [
    "%time s.maxArea(demo_input)"
   ]
  },
  {
   "cell_type": "code",
   "execution_count": 148,
   "metadata": {
    "collapsed": false
   },
   "outputs": [
    {
     "name": "stdout",
     "output_type": "stream",
     "text": [
      "1\n"
     ]
    },
    {
     "data": {
      "text/plain": [
       "(1,)"
      ]
     },
     "execution_count": 148,
     "metadata": {},
     "output_type": "execute_result"
    }
   ],
   "source": [
    "s.maxArea([1,2]),"
   ]
  },
  {
   "cell_type": "code",
   "execution_count": 142,
   "metadata": {
    "collapsed": false
   },
   "outputs": [
    {
     "data": {
      "text/plain": [
       "1"
      ]
     },
     "execution_count": 142,
     "metadata": {},
     "output_type": "execute_result"
    }
   ],
   "source": [
    "s.maxArea([2,1])"
   ]
  },
  {
   "cell_type": "code",
   "execution_count": 135,
   "metadata": {
    "collapsed": false
   },
   "outputs": [
    {
     "data": {
      "text/plain": [
       "4"
      ]
     },
     "execution_count": 135,
     "metadata": {},
     "output_type": "execute_result"
    }
   ],
   "source": [
    "s.maxArea([2,2,2]) "
   ]
  },
  {
   "cell_type": "markdown",
   "metadata": {},
   "source": [
    "# 疑问，类似的思路，为什么会超时"
   ]
  },
  {
   "cell_type": "code",
   "execution_count": 200,
   "metadata": {
    "collapsed": true
   },
   "outputs": [],
   "source": [
    "def test4(m=10000):\n",
    "    for i in iter(range(m)):\n",
    "        for j in iter(range(m)): break      "
   ]
  },
  {
   "cell_type": "code",
   "execution_count": 201,
   "metadata": {
    "collapsed": true
   },
   "outputs": [],
   "source": [
    "def test1(m=10000):\n",
    "    for i in range(m):\n",
    "        for j in range(m): break        \n",
    "def test3(m=10000):\n",
    "    i=j=0\n",
    "    while i<m:\n",
    "        i+=1\n",
    "        j=0\n",
    "        while j<m: \n",
    "            j+=1\n",
    "            break \n",
    "def test2(m=10000):\n",
    "    for i in range(m):\n",
    "        break\n",
    "        "
   ]
  },
  {
   "cell_type": "code",
   "execution_count": 202,
   "metadata": {
    "collapsed": false
   },
   "outputs": [
    {
     "name": "stdout",
     "output_type": "stream",
     "text": [
      "CPU times: user 267 µs, sys: 3 µs, total: 270 µs\n",
      "Wall time: 271 µs\n",
      "CPU times: user 1.44 ms, sys: 345 µs, total: 1.78 ms\n",
      "Wall time: 1.51 ms\n",
      "CPU times: user 1.18 s, sys: 5.82 ms, total: 1.19 s\n",
      "Wall time: 1.21 s\n",
      "CPU times: user 1.2 s, sys: 8.05 ms, total: 1.2 s\n",
      "Wall time: 1.21 s\n"
     ]
    }
   ],
   "source": [
    "%time test2()\n",
    "%time test3()\n",
    "%time test1()\n",
    "%time test4()"
   ]
  },
  {
   "cell_type": "markdown",
   "metadata": {},
   "source": [
    "通过以上例子说明一个问题，python range的方式来进行两重迭代是要动态生成 list的\n",
    "\n",
    "所以下面的代码虽然和正确代码表达的是一个疑似，但是执行效率完全不是一个数量级"
   ]
  },
  {
   "cell_type": "code",
   "execution_count": 160,
   "metadata": {
    "collapsed": true
   },
   "outputs": [],
   "source": [
    "class Solution(object):\n",
    "    def maxArea(self, height):\n",
    "        \"\"\"\n",
    "        :type height: List[int]\n",
    "        :rtype: int\n",
    "        \"\"\"\n",
    "        max_area = 0\n",
    "        # 初始化矩阵\n",
    "        len_h = len(height)\n",
    "        len_v = len(height)\n",
    "\n",
    "        ret = []\n",
    "        cal = 0\n",
    "        for m in range(0, len_h):\n",
    "            for n in range(len_v-1, m,-1):\n",
    "                cal+=1\n",
    "                if height[m]>=height[n]:\n",
    "                    len_v-=1\n",
    "                    ret.append((n-m)*height[n])\n",
    "                elif height[m]<height[n]:\n",
    "                    ret.append((n-m)*height[m])\n",
    "                    break\n",
    "        max_area = max(ret)\n",
    "        print len(ret), cal\n",
    "        return max_area"
   ]
  },
  {
   "cell_type": "code",
   "execution_count": 183,
   "metadata": {
    "collapsed": false
   },
   "outputs": [
    {
     "name": "stdout",
     "output_type": "stream",
     "text": [
      "14999 14999\n",
      "CPU times: user 7.48 ms, sys: 980 µs, total: 8.46 ms\n",
      "Wall time: 7.62 ms\n"
     ]
    },
    {
     "data": {
      "text/plain": [
       "56250000"
      ]
     },
     "execution_count": 183,
     "metadata": {},
     "output_type": "execute_result"
    }
   ],
   "source": [
    "s = Solution()\n",
    "%time s.maxArea(demo_input)"
   ]
  },
  {
   "cell_type": "code",
   "execution_count": null,
   "metadata": {
    "collapsed": true
   },
   "outputs": [],
   "source": []
  }
 ],
 "metadata": {
  "kernelspec": {
   "display_name": "Python [default]",
   "language": "python",
   "name": "python2"
  },
  "language_info": {
   "codemirror_mode": {
    "name": "ipython",
    "version": 2
   },
   "file_extension": ".py",
   "mimetype": "text/x-python",
   "name": "python",
   "nbconvert_exporter": "python",
   "pygments_lexer": "ipython2",
   "version": "2.7.13"
  }
 },
 "nbformat": 4,
 "nbformat_minor": 2
}
